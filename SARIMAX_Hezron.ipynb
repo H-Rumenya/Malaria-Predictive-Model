{
 "cells": [
  {
   "cell_type": "code",
   "execution_count": 1,
   "id": "6caaba15-84d7-49f5-9720-3070f34a0d77",
   "metadata": {},
   "outputs": [],
   "source": [
    "import numpy as np\n",
    "import pandas as pd\n",
    "import warnings\n",
    "warnings.filterwarnings(\"ignore\")"
   ]
  },
  {
   "cell_type": "code",
   "execution_count": 2,
   "id": "c8508613-4552-406e-ad5b-60417c1935ef",
   "metadata": {},
   "outputs": [
    {
     "name": "stdout",
     "output_type": "stream",
     "text": [
      "<class 'pandas.core.frame.DataFrame'>\n",
      "RangeIndex: 349 entries, 0 to 348\n",
      "Data columns (total 9 columns):\n",
      " #   Column                  Non-Null Count  Dtype  \n",
      "---  ------                  --------------  -----  \n",
      " 0   periodname              349 non-null    object \n",
      " 1   week_start              349 non-null    object \n",
      " 2   week_end                349 non-null    object \n",
      " 3   Combined_positive       349 non-null    float64\n",
      " 4   temp_c                  349 non-null    float64\n",
      " 5   rh_pct                  349 non-null    float64\n",
      " 6   rain_mm                 349 non-null    float64\n",
      " 7   wind10_kmh              349 non-null    float64\n",
      " 8   soil_moisture_top_m3m3  349 non-null    float64\n",
      "dtypes: float64(6), object(3)\n",
      "memory usage: 24.7+ KB\n"
     ]
    }
   ],
   "source": [
    "# load data\n",
    "merged_df = pd.read_csv(\"Data/final_modeling_dataset.csv\")\n",
    "# Check columns.\n",
    "merged_df.info()"
   ]
  },
  {
   "cell_type": "markdown",
   "id": "2ee5eb12-cea3-4bea-97bc-5fba3a57807e",
   "metadata": {},
   "source": [
    "### 📌 Step 1: Data Preparation  \n",
    "#### 1.1 Convert Dates and Set Index"
   ]
  },
  {
   "cell_type": "code",
   "execution_count": 3,
   "id": "e1d310d3-f4ab-4786-b671-40c52756caa3",
   "metadata": {},
   "outputs": [],
   "source": [
    "merged_df['week_start'] = pd.to_datetime(merged_df['week_start'])\n",
    "merged_df.set_index('week_start', inplace=True)\n",
    "merged_df.sort_index(inplace=True)"
   ]
  },
  {
   "cell_type": "markdown",
   "id": "7048ad91-5d48-4f3d-a7b7-eb554f789412",
   "metadata": {},
   "source": [
    "#### 1.2 Check Stationarity (ADF Test)"
   ]
  },
  {
   "cell_type": "code",
   "execution_count": 4,
   "id": "1f9cd358-47ef-411b-8082-79088f48714b",
   "metadata": {},
   "outputs": [
    {
     "name": "stdout",
     "output_type": "stream",
     "text": [
      "ADF Statistic: -5.497344209946364\n",
      "p-value: 2.108878552986943e-06\n"
     ]
    }
   ],
   "source": [
    "from statsmodels.tsa.stattools import adfuller\n",
    "\n",
    "result = adfuller(merged_df['Combined_positive'])\n",
    "print(f'ADF Statistic: {result[0]}')\n",
    "print(f'p-value: {result[1]}')"
   ]
  },
  {
   "cell_type": "markdown",
   "id": "786cac44-ecfb-4b9e-9b9c-85a185887b4c",
   "metadata": {},
   "source": [
    "If p-value > 0.05, the series is non-stationary. You’ll likely need d=1."
   ]
  },
  {
   "cell_type": "markdown",
   "id": "5c7a8eb8-79c7-4fa9-a007-550ad8e48758",
   "metadata": {},
   "source": [
    "**Code output and interpretation**  \n",
    "ADF Statistic: -5.50\n",
    "p-value: 2.11e-06  \n",
    "Since p-value < 0.05, the null hypothesis of non-stationarity is rejected.  \n",
    "✅ This means the Combined_positive series is already stationary, and we don’t need differencing (d=0) for SARIMAX."
   ]
  },
  {
   "cell_type": "markdown",
   "id": "eeb0406f-c3b9-4438-bd51-1945c17d15d4",
   "metadata": {},
   "source": [
    "### 📌 Step 2: Build a Baseline SARIMAX Model"
   ]
  },
  {
   "cell_type": "code",
   "execution_count": 5,
   "id": "e60689a6-7bb2-489f-89d8-3a062603aa2b",
   "metadata": {},
   "outputs": [
    {
     "name": "stderr",
     "output_type": "stream",
     "text": [
      "C:\\Users\\HRumenya\\anaconda3\\Lib\\site-packages\\statsmodels\\tsa\\base\\tsa_model.py:473: ValueWarning: No frequency information was provided, so inferred frequency W-MON will be used.\n",
      "  self._init_dates(dates, freq)\n",
      "C:\\Users\\HRumenya\\anaconda3\\Lib\\site-packages\\statsmodels\\tsa\\base\\tsa_model.py:473: ValueWarning: No frequency information was provided, so inferred frequency W-MON will be used.\n",
      "  self._init_dates(dates, freq)\n",
      "C:\\Users\\HRumenya\\anaconda3\\Lib\\site-packages\\statsmodels\\base\\model.py:607: ConvergenceWarning: Maximum Likelihood optimization failed to converge. Check mle_retvals\n",
      "  warnings.warn(\"Maximum Likelihood optimization failed to \"\n"
     ]
    },
    {
     "name": "stdout",
     "output_type": "stream",
     "text": [
      "                                     SARIMAX Results                                      \n",
      "==========================================================================================\n",
      "Dep. Variable:                  Combined_positive   No. Observations:                  349\n",
      "Model:             SARIMAX(1, 0, 1)x(1, 0, 1, 52)   Log Likelihood               -2443.876\n",
      "Date:                            Sun, 21 Sep 2025   AIC                           4907.753\n",
      "Time:                                    17:37:10   BIC                           4944.622\n",
      "Sample:                                12-31-2018   HQIC                          4922.516\n",
      "                                     - 09-01-2025                                         \n",
      "Covariance Type:                              opg                                         \n",
      "==========================================================================================\n",
      "                             coef    std err          z      P>|z|      [0.025      0.975]\n",
      "------------------------------------------------------------------------------------------\n",
      "temp_c                   146.3711     25.134      5.824      0.000      97.109     195.633\n",
      "rh_pct                   -23.7616      9.473     -2.508      0.012     -42.328      -5.195\n",
      "rain_mm                    7.0895      3.688      1.922      0.055      -0.139      14.318\n",
      "wind10_kmh              -134.6534     26.661     -5.051      0.000    -186.908     -82.399\n",
      "soil_moisture_top_m3m3 -1974.6367   2914.323     -0.678      0.498   -7686.605    3737.331\n",
      "ar.L1                      0.8112      0.037     21.706      0.000       0.738       0.884\n",
      "ma.L1                      0.2169      0.058      3.748      0.000       0.103       0.330\n",
      "ar.S.L52                  -0.0529      0.337     -0.157      0.875      -0.713       0.607\n",
      "ma.S.L52                   0.2027      0.345      0.588      0.557      -0.473       0.879\n",
      "sigma2                  9.485e+05   5.82e+04     16.296      0.000    8.34e+05    1.06e+06\n",
      "===================================================================================\n",
      "Ljung-Box (L1) (Q):                   0.08   Jarque-Bera (JB):               440.15\n",
      "Prob(Q):                              0.78   Prob(JB):                         0.00\n",
      "Heteroskedasticity (H):               1.15   Skew:                             0.97\n",
      "Prob(H) (two-sided):                  0.50   Kurtosis:                         8.66\n",
      "===================================================================================\n",
      "\n",
      "Warnings:\n",
      "[1] Covariance matrix calculated using the outer product of gradients (complex-step).\n"
     ]
    }
   ],
   "source": [
    "from statsmodels.tsa.statespace.sarimax import SARIMAX\n",
    "\n",
    "exog_vars = ['temp_c', 'rh_pct', 'rain_mm', 'wind10_kmh', 'soil_moisture_top_m3m3']\n",
    "exog = merged_df[exog_vars]\n",
    "\n",
    "model = SARIMAX(merged_df['Combined_positive'], \n",
    "                exog=exog,\n",
    "                order=(1, 0, 1), \n",
    "                seasonal_order=(1, 0, 1, 52),  # 52 weeks for annual seasonality\n",
    "                enforce_stationarity=False,\n",
    "                enforce_invertibility=False)\n",
    "\n",
    "results = model.fit(disp=False)\n",
    "print(results.summary())"
   ]
  },
  {
   "cell_type": "markdown",
   "id": "f32a2463-c2dc-4150-9923-4e6cbb4b7da6",
   "metadata": {},
   "source": [
    "### 📌 Step 3: Tune SARIMAX Hyperparameters\n",
    "Use Grid Search to Improve Performance"
   ]
  },
  {
   "cell_type": "code",
   "execution_count": 6,
   "id": "95b0c1b9-be7e-4461-a6c3-7045bc156d11",
   "metadata": {},
   "outputs": [
    {
     "name": "stdout",
     "output_type": "stream",
     "text": [
      "Best SARIMA order: (1, 0, 1)\n",
      "Best seasonal order: (0, 0, 1) (52)\n",
      "Best AIC: 4888.447874768525\n"
     ]
    }
   ],
   "source": [
    "import itertools\n",
    "import warnings\n",
    "warnings.filterwarnings(\"ignore\")\n",
    "\n",
    "p = q = range(0, 2)\n",
    "d = [0]  # Keep d=0 based on ADF test\n",
    "seasonal_d = [0]  # Keep D=0 based on ADF test\n",
    "\n",
    "# Generate all combinations for trend and seasonal parameters\n",
    "pdq = list(itertools.product(p, d, q))\n",
    "seasonal_pdq = list(itertools.product(p, seasonal_d, q))\n",
    "\n",
    "best_aic = float(\"inf\")\n",
    "best_order = None\n",
    "best_seasonal_order = None\n",
    "\n",
    "for param in pdq:\n",
    "    for param_seasonal in seasonal_pdq:\n",
    "        try:\n",
    "            mod = SARIMAX(merged_df['Combined_positive'],\n",
    "                          exog=exog,\n",
    "                          order=param,\n",
    "                          seasonal_order=param_seasonal + (52,),\n",
    "                          enforce_stationarity=False,\n",
    "                          enforce_invertibility=False)\n",
    "\n",
    "            results = mod.fit(disp=False)\n",
    "\n",
    "            if results.aic < best_aic:\n",
    "                best_aic = results.aic\n",
    "                best_order = param\n",
    "                best_seasonal_order = param_seasonal\n",
    "\n",
    "        except:\n",
    "            continue\n",
    "\n",
    "print(f'Best SARIMA order: {best_order}')\n",
    "print(f'Best seasonal order: {best_seasonal_order} (52)')\n",
    "print(f'Best AIC: {best_aic}')"
   ]
  },
  {
   "cell_type": "markdown",
   "id": "a4f531b4-9490-48e4-8fd5-414f2d4dfc48",
   "metadata": {},
   "source": [
    "### 📌 Step 4: Train Final Tuned Model"
   ]
  },
  {
   "cell_type": "code",
   "execution_count": 7,
   "id": "b7baecf8-8d02-4a42-a706-f7353ac32e5e",
   "metadata": {},
   "outputs": [
    {
     "name": "stdout",
     "output_type": "stream",
     "text": [
      "                                     SARIMAX Results                                      \n",
      "==========================================================================================\n",
      "Dep. Variable:                  Combined_positive   No. Observations:                  349\n",
      "Model:             SARIMAX(1, 0, 1)x(0, 0, 1, 52)   Log Likelihood               -2435.224\n",
      "Date:                            Sun, 21 Sep 2025   AIC                           4888.448\n",
      "Time:                                    17:41:55   BIC                           4921.631\n",
      "Sample:                                12-31-2018   HQIC                          4901.735\n",
      "                                     - 09-01-2025                                         \n",
      "Covariance Type:                              opg                                         \n",
      "==========================================================================================\n",
      "                             coef    std err          z      P>|z|      [0.025      0.975]\n",
      "------------------------------------------------------------------------------------------\n",
      "temp_c                   169.2506     36.830      4.595      0.000      97.065     241.436\n",
      "rh_pct                    -0.3407     10.561     -0.032      0.974     -21.039      20.358\n",
      "rain_mm                    9.8052      3.501      2.800      0.005       2.943      16.667\n",
      "wind10_kmh               -46.7239     26.485     -1.764      0.078     -98.634       5.186\n",
      "soil_moisture_top_m3m3 -1974.4967   2986.466     -0.661      0.509   -7827.863    3878.869\n",
      "ar.L1                      0.9258      0.041     22.569      0.000       0.845       1.006\n",
      "ma.L1                      0.1826      0.054      3.386      0.001       0.077       0.288\n",
      "ma.S.L52                   0.1218      0.092      1.317      0.188      -0.059       0.303\n",
      "sigma2                  9.504e+05   6.27e+04     15.157      0.000    8.28e+05    1.07e+06\n",
      "===================================================================================\n",
      "Ljung-Box (L1) (Q):                   0.26   Jarque-Bera (JB):               503.05\n",
      "Prob(Q):                              0.61   Prob(JB):                         0.00\n",
      "Heteroskedasticity (H):               1.28   Skew:                             0.39\n",
      "Prob(H) (two-sided):                  0.23   Kurtosis:                         9.35\n",
      "===================================================================================\n",
      "\n",
      "Warnings:\n",
      "[1] Covariance matrix calculated using the outer product of gradients (complex-step).\n"
     ]
    }
   ],
   "source": [
    "final_model = SARIMAX(merged_df['Combined_positive'],\n",
    "                      exog=exog,\n",
    "                      order=best_order,\n",
    "                      seasonal_order=best_seasonal_order + (52,),\n",
    "                      enforce_stationarity=False,\n",
    "                      enforce_invertibility=False)\n",
    "\n",
    "final_results = final_model.fit(disp=False)\n",
    "print(final_results.summary())"
   ]
  },
  {
   "cell_type": "markdown",
   "id": "a78c8c34-a8a4-4190-92cd-c08cad6023c5",
   "metadata": {},
   "source": [
    "### 📌 Step 5: Evaluate the Model \n",
    "**Train-Test Split & Forecast Accuracy**"
   ]
  },
  {
   "cell_type": "code",
   "execution_count": 8,
   "id": "4f4ce71f-c174-4f0e-87e8-464651cdaeac",
   "metadata": {},
   "outputs": [
    {
     "name": "stdout",
     "output_type": "stream",
     "text": [
      "MAE: 1269.78\n",
      "RMSE: 1789.21\n",
      "R2 Score: -0.07\n"
     ]
    }
   ],
   "source": [
    "from sklearn.metrics import mean_squared_error, mean_absolute_error, r2_score\n",
    "import numpy as np\n",
    "\n",
    "# Split data (last 20 weeks as test)\n",
    "train = merged_df.iloc[:-20]\n",
    "test = merged_df.iloc[-20:]\n",
    "\n",
    "train_exog = train[exog_vars]\n",
    "test_exog = test[exog_vars]\n",
    "\n",
    "model = SARIMAX(train['Combined_positive'],\n",
    "                exog=train_exog,\n",
    "                order=best_order,\n",
    "                seasonal_order=best_seasonal_order + (52,),\n",
    "                enforce_stationarity=False,\n",
    "                enforce_invertibility=False)\n",
    "\n",
    "results = model.fit(disp=False)\n",
    "\n",
    "# Forecast\n",
    "forecast = results.predict(start=test.index[0], end=test.index[-1], exog=test_exog)\n",
    "\n",
    "# Evaluation\n",
    "mae = mean_absolute_error(test['Combined_positive'], forecast)\n",
    "rmse = np.sqrt(mean_squared_error(test['Combined_positive'], forecast))\n",
    "r2 = r2_score(test['Combined_positive'], forecast)\n",
    "\n",
    "print(f\"MAE: {mae:.2f}\")\n",
    "print(f\"RMSE: {rmse:.2f}\")\n",
    "print(f\"R2 Score: {r2:.2f}\")"
   ]
  },
  {
   "cell_type": "markdown",
   "id": "a80b828e-066b-4e2c-b0d3-edcd4427cb64",
   "metadata": {},
   "source": [
    "### 📌 Step 6: Forecast 5 Weeks Ahead  \n",
    "#### 6.1 Prepare Future Exog (you must update with actual values or use last known)"
   ]
  },
  {
   "cell_type": "code",
   "execution_count": 9,
   "id": "f45f5ffb-0d65-4563-b768-fbc0c55d6cb7",
   "metadata": {},
   "outputs": [
    {
     "name": "stdout",
     "output_type": "stream",
     "text": [
      "2025-09-08    3039.547826\n",
      "2025-09-15    2841.421373\n",
      "2025-09-22    2665.092456\n",
      "2025-09-29    2847.600838\n",
      "2025-10-06    2735.464744\n",
      "Freq: W-MON, Name: predicted_mean, dtype: float64\n"
     ]
    }
   ],
   "source": [
    "# Assuming last 5 weeks of known exog values are representative\n",
    "future_exog = merged_df[exog_vars].iloc[-5:].copy()\n",
    "future_exog.index = pd.date_range(start=merged_df.index[-1] + pd.Timedelta(weeks=1), periods=5, freq='W-MON')\n",
    "\n",
    "forecast_5w = final_results.predict(start=future_exog.index[0], \n",
    "                                    end=future_exog.index[-1],\n",
    "                                    exog=future_exog)\n",
    "\n",
    "print(forecast_5w)"
   ]
  },
  {
   "cell_type": "markdown",
   "id": "69fd0bcc-4109-4d8a-b201-f2d7204d6512",
   "metadata": {},
   "source": [
    "### 📌 Step 7: Detect Outbreaks Based on Rule"
   ]
  },
  {
   "cell_type": "code",
   "execution_count": 10,
   "id": "1a8327c5-1a5e-4371-852a-0a518aaaa46b",
   "metadata": {},
   "outputs": [
    {
     "name": "stdout",
     "output_type": "stream",
     "text": [
      "Week of 2025-09-15 | Cases: 2841.42 | Ratio: 0.93 | Outbreak: No\n",
      "Week of 2025-09-22 | Cases: 2665.09 | Ratio: 0.94 | Outbreak: No\n",
      "Week of 2025-09-29 | Cases: 2847.60 | Ratio: 1.07 | Outbreak: No\n",
      "Week of 2025-10-06 | Cases: 2735.46 | Ratio: 0.96 | Outbreak: No\n"
     ]
    }
   ],
   "source": [
    "# Detect outbreaks: pred(t+1)/pred(t) > 1.5\n",
    "def detect_outbreaks(pred_series):\n",
    "    outbreaks = []\n",
    "    for i in range(1, len(pred_series)):\n",
    "        ratio = pred_series.iloc[i] / pred_series.iloc[i - 1]\n",
    "        is_outbreak = ratio > 1.5\n",
    "        outbreaks.append((pred_series.index[i], pred_series.iloc[i], ratio, is_outbreak))\n",
    "    return outbreaks\n",
    "\n",
    "outbreaks = detect_outbreaks(forecast_5w)\n",
    "\n",
    "for date, value, ratio, is_outbreak in outbreaks:\n",
    "    print(f\"Week of {date.date()} | Cases: {value:.2f} | Ratio: {ratio:.2f} | Outbreak: {'Yes' if is_outbreak else 'No'}\")"
   ]
  },
  {
   "cell_type": "code",
   "execution_count": null,
   "id": "52d86b4c-30d5-4cbf-838f-a4b390bec9e3",
   "metadata": {},
   "outputs": [],
   "source": []
  }
 ],
 "metadata": {
  "kernelspec": {
   "display_name": "Python 3 (ipykernel)",
   "language": "python",
   "name": "python3"
  },
  "language_info": {
   "codemirror_mode": {
    "name": "ipython",
    "version": 3
   },
   "file_extension": ".py",
   "mimetype": "text/x-python",
   "name": "python",
   "nbconvert_exporter": "python",
   "pygments_lexer": "ipython3",
   "version": "3.12.7"
  }
 },
 "nbformat": 4,
 "nbformat_minor": 5
}
